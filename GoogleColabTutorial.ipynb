{
  "nbformat": 4,
  "nbformat_minor": 0,
  "metadata": {
    "colab": {
      "provenance": [],
      "authorship_tag": "ABX9TyNaJrzzHdqmUPdrmWErgulO",
      "include_colab_link": true
    },
    "kernelspec": {
      "name": "python3",
      "display_name": "Python 3"
    },
    "language_info": {
      "name": "python"
    }
  },
  "cells": [
    {
      "cell_type": "markdown",
      "metadata": {
        "id": "view-in-github",
        "colab_type": "text"
      },
      "source": [
        "<a href=\"https://colab.research.google.com/github/pgarroba/GoogleColabTutorial/blob/main/GoogleColabTutorial.ipynb\" target=\"_parent\"><img src=\"https://colab.research.google.com/assets/colab-badge.svg\" alt=\"Open In Colab\"/></a>"
      ]
    },
    {
      "cell_type": "code",
      "execution_count": 15,
      "metadata": {
        "colab": {
          "base_uri": "https://localhost:8080/"
        },
        "id": "LKHpME45acd8",
        "outputId": "420988ab-00b4-44bf-c157-35a292f5c336"
      },
      "outputs": [
        {
          "output_type": "stream",
          "name": "stdout",
          "text": [
            "Thu Feb  1 16:20:45 2024\n"
          ]
        }
      ],
      "source": [
        "import time\n",
        "print(time.ctime())"
      ]
    },
    {
      "cell_type": "code",
      "source": [
        "print(\"5 seconds countdown\")\n",
        "time.sleep(5)\n",
        "print(\"Start:\")\n",
        "\n",
        "for i in range(4):\n",
        "  if i == 0:\n",
        "    print(\"{} second...\".format(i+1))\n",
        "    time.sleep(1)\n",
        "  else:\n",
        "    print(\"{} seconds...\".format(i+1))\n",
        "    time.sleep(1)"
      ],
      "metadata": {
        "colab": {
          "base_uri": "https://localhost:8080/"
        },
        "id": "Ku5USwiWdA0v",
        "outputId": "64c931b1-bd47-4155-98ab-b1ae35c63e07"
      },
      "execution_count": 24,
      "outputs": [
        {
          "output_type": "stream",
          "name": "stdout",
          "text": [
            "5 seconds countdown\n",
            "Start:\n",
            "1 second...\n",
            "2 seconds...\n",
            "3 seconds...\n",
            "4 seconds...\n"
          ]
        }
      ]
    },
    {
      "cell_type": "markdown",
      "source": [
        "Example of LaTeX use in Text Cell:\n",
        "\n",
        "\n",
        "$y_0 = 5 \\text{ with } n = 5 \\text{ and } x^{1/3}$\n",
        "\n",
        "\n",
        "$e^x = \\sum_{i = 0}^\\infty \\frac{1}{i!}x^i$\n"
      ],
      "metadata": {
        "id": "Ob2hxFHpfMy7"
      }
    },
    {
      "cell_type": "code",
      "source": [],
      "metadata": {
        "id": "e2ZBkLQ2dNwN"
      },
      "execution_count": null,
      "outputs": []
    }
  ]
}